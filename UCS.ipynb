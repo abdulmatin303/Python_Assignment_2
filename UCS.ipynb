{
 "cells": [
  {
   "cell_type": "code",
   "execution_count": null,
   "metadata": {},
   "outputs": [
    {
     "name": "stdout",
     "output_type": "stream",
     "text": [
      "12\n",
      "14\n",
      "13\n"
     ]
    }
   ],
   "source": [
    "import queue as Q\n",
    "\n",
    "def search(graph, start, end):\n",
    "    if start not in graph:\n",
    "        raise TypeError(str(start) + ' not found in graph !')\n",
    "        return\n",
    "    if end not in graph:\n",
    "        raise TypeError(str(end) + ' not found in graph !')\n",
    "        return\n",
    "    \n",
    "    queue = Q.PriorityQueue()\n",
    "    queue.put((0, [start]))\n",
    "    \n",
    "    while not queue.empty():\n",
    "        node = queue.get()\n",
    "        current = node[1][len(node[1]) - 1]\n",
    "        \n",
    "        if end in node[1]:\n",
    "            print(\"Path found: \" + str(node[1]) + \", Cost = \" + str(node[0]))\n",
    "            break\n",
    "        \n",
    "        cost = node[0]\n",
    "        for neighbor in graph[current]:\n",
    "            temp = node[1][:]\n",
    "            temp.append(neighbor)\n",
    "            queue.put((cost + graph[current][neighbor], temp))\n",
    "        \n",
    "def readGraph():\n",
    "    lines = int( input() )\n",
    "    graph = {}\n",
    "    \n",
    "    for line in range(lines):\n",
    "        line = input()\n",
    "            \n",
    "        tokens = line.split()\n",
    "        node = tokens[0]\n",
    "        graph[node] = {}\n",
    "        \n",
    "        for i in range(1, len(tokens) - 1, 2):\n",
    "            # print(node, tokens[i], tokens[i + 1])\n",
    "            # graph.addEdge(node, tokens[i], int(tokens[i + 1]))\n",
    "            graph[node][tokens[i]] = int(tokens[i + 1])\n",
    "    return graph\n",
    "\n",
    "def main():\n",
    "    graph = readGraph()\n",
    "    search(graph, 'Arad', 'Bucharest')\n",
    "    \n",
    "if __name__ == \"__main__\":\n",
    "    main()\n",
    "    "
   ]
  },
  {
   "cell_type": "code",
   "execution_count": null,
   "metadata": {},
   "outputs": [],
   "source": []
  }
 ],
 "metadata": {
  "kernelspec": {
   "display_name": "Python 3",
   "language": "python",
   "name": "python3"
  },
  "language_info": {
   "codemirror_mode": {
    "name": "ipython",
    "version": 3
   },
   "file_extension": ".py",
   "mimetype": "text/x-python",
   "name": "python",
   "nbconvert_exporter": "python",
   "pygments_lexer": "ipython3",
   "version": "3.7.3"
  }
 },
 "nbformat": 4,
 "nbformat_minor": 2
}
